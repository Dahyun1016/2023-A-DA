{
 "cells": [
  {
   "cell_type": "code",
   "execution_count": 1,
   "id": "ac0e1f77",
   "metadata": {},
   "outputs": [],
   "source": [
    "import sys"
   ]
  },
  {
   "cell_type": "code",
   "execution_count": 2,
   "id": "d4e71096",
   "metadata": {},
   "outputs": [
    {
     "data": {
      "text/plain": [
       "'3.9.13 (main, Aug 25 2022, 23:51:50) [MSC v.1916 64 bit (AMD64)]'"
      ]
     },
     "execution_count": 2,
     "metadata": {},
     "output_type": "execute_result"
    }
   ],
   "source": [
    "sys.version"
   ]
  },
  {
   "cell_type": "code",
   "execution_count": null,
   "id": "ddb0afbf",
   "metadata": {},
   "outputs": [],
   "source": [
    "name = input('이름 입력 > ')"
   ]
  },
  {
   "cell_type": "markdown",
   "id": "ee3145a0",
   "metadata": {},
   "source": [
    "# 표준입력"
   ]
  },
  {
   "cell_type": "code",
   "execution_count": null,
   "id": "1bf4ad7d",
   "metadata": {},
   "outputs": [],
   "source": [
    "name"
   ]
  },
  {
   "cell_type": "code",
   "execution_count": null,
   "id": "fd397006",
   "metadata": {},
   "outputs": [],
   "source": [
    "birth = input('출생 연도를 입력하세요 : ')"
   ]
  },
  {
   "cell_type": "code",
   "execution_count": null,
   "id": "d8008028",
   "metadata": {},
   "outputs": [],
   "source": [
    "print(10*7)"
   ]
  },
  {
   "cell_type": "code",
   "execution_count": null,
   "id": "43205eff",
   "metadata": {},
   "outputs": [],
   "source": [
    "age = 2022-int(birth)"
   ]
  },
  {
   "cell_type": "code",
   "execution_count": null,
   "id": "dbdd6ad4",
   "metadata": {},
   "outputs": [],
   "source": [
    "print('안녕하세요!'+name+'님!'+str(age)+'세이시군요!')"
   ]
  },
  {
   "cell_type": "code",
   "execution_count": null,
   "id": "06e4fbcb",
   "metadata": {},
   "outputs": [],
   "source": [
    "a = 2022\n",
    "print(a)"
   ]
  },
  {
   "cell_type": "code",
   "execution_count": null,
   "id": "6fd9ec9e",
   "metadata": {},
   "outputs": [],
   "source": [
    "b = '여러분'\n",
    "print(b+'안녕하세요!')"
   ]
  },
  {
   "cell_type": "code",
   "execution_count": null,
   "id": "7df5357d",
   "metadata": {},
   "outputs": [],
   "source": [
    "c='새해'\n",
    "print(a,'년에도'+c+'복 많이 받으세요!')"
   ]
  },
  {
   "cell_type": "code",
   "execution_count": null,
   "id": "ed586f17",
   "metadata": {},
   "outputs": [],
   "source": [
    "print('Hi,everyone')"
   ]
  },
  {
   "cell_type": "code",
   "execution_count": null,
   "id": "7bc2d79b",
   "metadata": {},
   "outputs": [],
   "source": [
    "for i in (10,20,30):\n",
    "    print (i)"
   ]
  },
  {
   "cell_type": "code",
   "execution_count": null,
   "id": "b3469802",
   "metadata": {},
   "outputs": [],
   "source": [
    "for i in range(10):\n",
    "    print (i)"
   ]
  },
  {
   "cell_type": "code",
   "execution_count": null,
   "id": "a563e350",
   "metadata": {},
   "outputs": [],
   "source": [
    "for i in range(5):\n",
    "    print(1+2)"
   ]
  },
  {
   "cell_type": "code",
   "execution_count": null,
   "id": "62f2c319",
   "metadata": {},
   "outputs": [],
   "source": [
    "test_score =[80,70,90,100]\n",
    "for score in test_score:\n",
    "    print(score)"
   ]
  },
  {
   "cell_type": "markdown",
   "id": "6b31bcce",
   "metadata": {},
   "source": [
    "## 리스트"
   ]
  },
  {
   "cell_type": "code",
   "execution_count": null,
   "id": "472d0cf8",
   "metadata": {},
   "outputs": [],
   "source": [
    "day = list('월화수목금토일')"
   ]
  },
  {
   "cell_type": "code",
   "execution_count": null,
   "id": "67944102",
   "metadata": {},
   "outputs": [],
   "source": [
    "day[3]"
   ]
  },
  {
   "cell_type": "code",
   "execution_count": null,
   "id": "2d77dd8e",
   "metadata": {},
   "outputs": [],
   "source": [
    "day[-3]"
   ]
  },
  {
   "cell_type": "markdown",
   "id": "af7347f3",
   "metadata": {},
   "source": [
    "## 슬라이스(silcing)"
   ]
  },
  {
   "cell_type": "code",
   "execution_count": null,
   "id": "5e9d239b",
   "metadata": {},
   "outputs": [],
   "source": [
    "day[1:3]"
   ]
  },
  {
   "cell_type": "code",
   "execution_count": null,
   "id": "d8af3410",
   "metadata": {},
   "outputs": [],
   "source": [
    "day[-4:-1]"
   ]
  },
  {
   "cell_type": "code",
   "execution_count": null,
   "id": "afeaffbc",
   "metadata": {},
   "outputs": [],
   "source": [
    "day[1:5:2]"
   ]
  },
  {
   "cell_type": "code",
   "execution_count": null,
   "id": "7cb5783e",
   "metadata": {},
   "outputs": [],
   "source": [
    "day[:]"
   ]
  },
  {
   "cell_type": "code",
   "execution_count": null,
   "id": "3bd10000",
   "metadata": {},
   "outputs": [],
   "source": [
    "day[::]"
   ]
  },
  {
   "cell_type": "code",
   "execution_count": null,
   "id": "91fdfe6a",
   "metadata": {},
   "outputs": [],
   "source": [
    "day[-7:-1:2]"
   ]
  },
  {
   "cell_type": "code",
   "execution_count": null,
   "id": "659a63a9",
   "metadata": {},
   "outputs": [],
   "source": [
    "day[::-1]"
   ]
  },
  {
   "cell_type": "code",
   "execution_count": null,
   "id": "3af58746",
   "metadata": {},
   "outputs": [],
   "source": [
    "day[-1:-8:-2]"
   ]
  },
  {
   "cell_type": "code",
   "execution_count": null,
   "id": "8a2df256",
   "metadata": {},
   "outputs": [],
   "source": [
    "import random\n",
    "dice = random.randint(1,6)\n",
    "print(dice)"
   ]
  },
  {
   "cell_type": "code",
   "execution_count": null,
   "id": "d3da43bb",
   "metadata": {},
   "outputs": [],
   "source": [
    "import math\n",
    "print(math.sqrt(2))\n",
    "print(math.sqrt(4))"
   ]
  },
  {
   "cell_type": "code",
   "execution_count": null,
   "id": "04e20aa5",
   "metadata": {},
   "outputs": [],
   "source": [
    "for num in range(10):\n",
    "    print(num)"
   ]
  },
  {
   "cell_type": "code",
   "execution_count": null,
   "id": "11835f8b",
   "metadata": {},
   "outputs": [],
   "source": [
    "test_score =[80,70,90,100]\n",
    "for score in test_score:\n",
    "    print(score)"
   ]
  },
  {
   "cell_type": "code",
   "execution_count": null,
   "id": "b8d1f79b",
   "metadata": {},
   "outputs": [],
   "source": [
    "test_name=['국어','영어','수학','과학']\n",
    "for name in test_name:\n",
    "    print(name)"
   ]
  },
  {
   "cell_type": "code",
   "execution_count": null,
   "id": "d0856625",
   "metadata": {},
   "outputs": [],
   "source": [
    "if (10>0):\n",
    "    print('안녕하세요')"
   ]
  },
  {
   "cell_type": "code",
   "execution_count": null,
   "id": "6390cd2a",
   "metadata": {},
   "outputs": [],
   "source": [
    "password = input('패스워드 입력:')\n",
    "if (int(password)==12345):\n",
    "    print('로그인 성공')\n",
    "elif(int(password)==11111):\n",
    "    print('관리자권한')\n",
    "else:\n",
    "    print('로그인실패')"
   ]
  },
  {
   "cell_type": "code",
   "execution_count": null,
   "id": "855b69e1",
   "metadata": {},
   "outputs": [],
   "source": [
    "arr1=[1,2,3,4,5]\n",
    "print(type(arr1))"
   ]
  },
  {
   "cell_type": "code",
   "execution_count": null,
   "id": "420ae0a6",
   "metadata": {},
   "outputs": [],
   "source": [
    "arr2=['월','화','수','목','금','토']\n",
    "print(type(arr2))"
   ]
  },
  {
   "cell_type": "code",
   "execution_count": null,
   "id": "be818262",
   "metadata": {},
   "outputs": [],
   "source": [
    "arr3=[1,2,3,4,5,'월','화','수','목','금','토']\n",
    "print(type(arr3))"
   ]
  },
  {
   "cell_type": "code",
   "execution_count": null,
   "id": "3ae556a5",
   "metadata": {},
   "outputs": [],
   "source": [
    "arr2=['월','화','수','목','금','토']\n",
    "print(arr2[0])\n",
    "print(arr2[1])\n",
    "print(arr2[2])\n",
    "print(arr2[3])\n",
    "print(arr2[4])\n",
    "print(arr2[5])"
   ]
  },
  {
   "cell_type": "code",
   "execution_count": null,
   "id": "405460ad",
   "metadata": {},
   "outputs": [],
   "source": [
    "arr2=['월','화','수','목','금','토']\n",
    "print(arr2[-1])\n",
    "print(arr2[-2])\n",
    "print(arr2[-3])\n",
    "print(arr2[-4])\n",
    "print(arr2[-5])\n",
    "print(arr2[-6])"
   ]
  },
  {
   "cell_type": "code",
   "execution_count": null,
   "id": "9351757c",
   "metadata": {},
   "outputs": [],
   "source": [
    "arr2=['월','화','수','목','금','토']\n",
    "print(arr2[0:2])\n",
    "print(arr2[1:4])\n",
    "print(arr2[1:])\n",
    "print(arr2[:3])\n",
    "print(arr2[:])"
   ]
  },
  {
   "cell_type": "code",
   "execution_count": null,
   "id": "79106aa6",
   "metadata": {},
   "outputs": [],
   "source": [
    "arr1=[1,2,3,4,5]\n",
    "print(arr1)\n",
    "print(len(arr1))\n",
    "arr1.append(6)\n",
    "print(arr1)\n",
    "print(len(arr1))"
   ]
  },
  {
   "cell_type": "code",
   "execution_count": null,
   "id": "32498231",
   "metadata": {},
   "outputs": [],
   "source": [
    "arr2=['월','화','수','목','금','토']\n",
    "print(arr2)\n",
    "print(len(arr2))\n",
    "arr2.append('일')\n",
    "print(arr2)\n",
    "print(len(arr2))"
   ]
  }
 ],
 "metadata": {
  "kernelspec": {
   "display_name": "Python 3 (ipykernel)",
   "language": "python",
   "name": "python3"
  },
  "language_info": {
   "codemirror_mode": {
    "name": "ipython",
    "version": 3
   },
   "file_extension": ".py",
   "mimetype": "text/x-python",
   "name": "python",
   "nbconvert_exporter": "python",
   "pygments_lexer": "ipython3",
   "version": "3.9.13"
  }
 },
 "nbformat": 4,
 "nbformat_minor": 5
}
