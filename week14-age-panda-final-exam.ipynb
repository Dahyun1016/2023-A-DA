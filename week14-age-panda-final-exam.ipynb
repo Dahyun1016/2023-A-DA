{
 "cells": [
  {
   "attachments": {},
   "cell_type": "markdown",
   "metadata": {},
   "source": [
    "# 사용 파이썬 점검"
   ]
  },
  {
   "cell_type": "code",
   "execution_count": 1,
   "metadata": {},
   "outputs": [
    {
     "data": {
      "text/plain": [
       "'3.9.13 (main, Aug 25 2022, 23:51:50) [MSC v.1916 64 bit (AMD64)]'"
      ]
     },
     "execution_count": 1,
     "metadata": {},
     "output_type": "execute_result"
    }
   ],
   "source": [
    "import sys\n",
    "sys.version"
   ]
  },
  {
   "cell_type": "code",
   "execution_count": 2,
   "metadata": {},
   "outputs": [
    {
     "data": {
      "text/plain": [
       "['c:\\\\Users\\\\102\\\\anaconda3', 'c:\\\\Users\\\\102\\\\anaconda3\\\\lib\\\\site-packages']"
      ]
     },
     "execution_count": 2,
     "metadata": {},
     "output_type": "execute_result"
    }
   ],
   "source": [
    "import site\n",
    "site.getsitepackages()"
   ]
  },
  {
   "attachments": {},
   "cell_type": "markdown",
   "metadata": {},
   "source": [
    "## 판다스로 구현하는 연령별 인구구조 유사지역"
   ]
  },
  {
   "cell_type": "code",
   "execution_count": 5,
   "metadata": {},
   "outputs": [
    {
     "name": "stdout",
     "output_type": "stream",
     "text": [
      "[             국가 (IOC 코드)  하계 참가 횟수  Unnamed: 2  Unnamed: 3  Unnamed: 4      계  \\\n",
      "0           아프가니스탄 (AFG)        14           0           0           2      2   \n",
      "1              알제리 (ALG)        13           5           4           8     17   \n",
      "2            아르헨티나 (ARG)        24          21          25          28     74   \n",
      "3            아르메니아 (ARM)         6           2           6           6     14   \n",
      "4    오스트랄라시아 (ANZ) [ANZ]         2           3           4           5     12   \n",
      "..                   ...       ...         ...         ...         ...    ...   \n",
      "148       독립 (IOA) [IOA]         3           1           0           1      2   \n",
      "149    독립 참가 (IOP) [IOP]         1           0           1           2      3   \n",
      "150  러시아 출신 올림픽 선수 (OAR)         0           0           0           0      0   \n",
      "151       혼성 (ZZX) [ZZX]         3           8           5           4     17   \n",
      "152                   총합        28        5116        5082        5490  15688   \n",
      "\n",
      "     동계 참가 횟수  Unnamed: 7  Unnamed: 8  Unnamed: 9   계.1  전체 참가 횟수  \\\n",
      "0           0           0           0           0     0        14   \n",
      "1           3           0           0           0     0        16   \n",
      "2          19           0           0           0     0        43   \n",
      "3           7           0           0           0     0        13   \n",
      "4           0           0           0           0     0         2   \n",
      "..        ...         ...         ...         ...   ...       ...   \n",
      "148         0           0           0           0     0         3   \n",
      "149         0           0           0           0     0         1   \n",
      "150         1           2           6           9    17         1   \n",
      "151         0           0           0           0     0         3   \n",
      "152        23        1062        1058        1050  3170        51   \n",
      "\n",
      "     Unnamed: 12  Unnamed: 13  Unnamed: 14     총합  \n",
      "0              0            0            2      2  \n",
      "1              5            4            8     17  \n",
      "2             21           25           28     74  \n",
      "3              2            6            6     14  \n",
      "4              3            4            5     12  \n",
      "..           ...          ...          ...    ...  \n",
      "148            1            0            1      2  \n",
      "149            0            1            2      3  \n",
      "150            2            6            9     17  \n",
      "151            8            5            4     17  \n",
      "152         6178         6140         6540  18858  \n",
      "\n",
      "[153 rows x 16 columns],                  국가 (IOC 코드)  하계 참가 횟수  동계 참가 횟수  전체 참가 횟수\n",
      "0                 알바니아 (ALB)         8         4        12\n",
      "1              아메리칸사모아 (ASA)         8         1         9\n",
      "2                  안도라 (AND)        11        12        23\n",
      "3                  앙골라 (ANG)         9         0         9\n",
      "4              앤티가 바부다 (ANT)        10         0        10\n",
      "..                       ...       ...       ...       ...\n",
      "74          중화민국 (ROC) [ROC]         3         0         3\n",
      "75            자르 (SAA) [SAA]         1         0         1\n",
      "76           북예멘 (YAR) [YAR]         2         0         2\n",
      "77  에멘 인민 민주 공화국 (YMD) [YMD]         1         0         1\n",
      "78            난민 (ROT) [ROT]         1         0         1\n",
      "\n",
      "[79 rows x 4 columns],                      국가 (IOC 코드) 하계 참가 횟수  Unnamed: 2  Unnamed: 3  Unnamed: 4  \\\n",
      "0                    독일 (GER)[5]       16         191         192         232   \n",
      "1              독일 (GER) (EUA)[6]       19         219         246         268   \n",
      "2        독일 (GER) (EUA) (FRG)[7]       24         275         313         349   \n",
      "3  독일 (GER) (EUA) (FRG) (GDR)[8]    25[9]         428         442         476   \n",
      "\n",
      "      계  동계 참가 횟수  Unnamed: 7  Unnamed: 8  Unnamed: 9  계.1 전체 참가 횟수  \\\n",
      "0   615        12          92          88          60  240       28   \n",
      "1   733        15         100          94          65  259       34   \n",
      "2   937        21         111         109          78  298       45   \n",
      "3  1346        21         150         145         113  408    46[9]   \n",
      "\n",
      "   Unnamed: 12  Unnamed: 13  Unnamed: 14    총합  \n",
      "0          283          280          292   855  \n",
      "1          319          340          333   992  \n",
      "2          386          422          427  1235  \n",
      "3          578          587          589  1754  ,                                 국가 (IOC 코드)  하계 참가 횟수  Unnamed: 2  Unnamed: 3  \\\n",
      "0                       러시아 출신 올림픽 선수 (OAR)         0           0           0   \n",
      "1                             러시아 (RUS)[10]         6         148         125   \n",
      "2                       러시아 (RUS) (RU1)[11]         9         149         129   \n",
      "3                               소련 (URS)[7]         9         395         319   \n",
      "4                         소련 (URS) (EUN)[8]        10         440         357   \n",
      "5  러시아 (RUS) (RU1) (OAR) 소련 (URS) (EUN)[12]        19         590         485   \n",
      "\n",
      "   Unnamed: 4     계  동계 참가 횟수  Unnamed: 7  Unnamed: 8  Unnamed: 9  계.1  \\\n",
      "0           0     0         1           2           6           9   17   \n",
      "1         153   426         6          47          38          35  120   \n",
      "2         156   434         6          47          38          35  120   \n",
      "3         296  1010         9          78          57          59  194   \n",
      "4         325  1122        10          87          63          67  217   \n",
      "5         481  1556        17         136         107         111  354   \n",
      "\n",
      "   전체 참가 횟수  Unnamed: 12  Unnamed: 13  Unnamed: 14    총합  \n",
      "0         1            2            6            9    17  \n",
      "1        12          195          163          188   546  \n",
      "2        12          195          163          188   546  \n",
      "3        18          473          376          355  1204  \n",
      "4        20          527          420          392  1339  \n",
      "5        36          726          592          592  1910  ,                                                    0  \\\n",
      "0  ANZ → AUS , NZL 오스트랄라시아(ANZ)는 오스트레일리아(AUS)와 뉴질...   \n",
      "\n",
      "                                                   1  \n",
      "0  SRB , YUG → IOP , SCG 세르비아(SRB, 1912년, 2006년~현...  ,                                                    0  \\\n",
      "0  BIZ 벨리즈는 1968년부터 1972년까지 영국령 온두라스(HBR)로 참가하였다....   \n",
      "\n",
      "                                                   1  \n",
      "0  GUY 1996년 가이아나는 독립하기 이전에 영국령 기아나라는 명칭으로 1948년부...  ,                                                    0  \\\n",
      "0  A 브루나이는 1988년 대회에 선수 없이 임원 한 명만을 보내었다. 이는 참가 집...   \n",
      "\n",
      "                                                   1  \n",
      "0  F 2014년 대회에 인도의 선수들은 인도 올림픽 협회의 자격 정지로 개막식에 올림...  ,                                                    0  \\\n",
      "0  H 불가리아 올림픽 위원회는 소피아에 거주하던 스위스의 체조 교사인 샤를 샴포가 1...   \n",
      "\n",
      "                                                   1  \n",
      "0  N 모나코는 1924년 하계 올림픽 예술에서 동메달을 획득하였다.[15] 그러나 I...  ,   vte올림픽 메달 집계                                     vte올림픽 메달 집계.1\n",
      "0       하계 올림픽  1896 1900 1904 1908 1912 1920 1924 1928 1932 1...\n",
      "1       동계 올림픽  1924 1928 1932 1936 1948 1952 1956 1960 1964 1...\n",
      "2   하계 청소년 올림픽                                     2010 2014 2018\n",
      "3   동계 청소년 올림픽                                     2012 2016 2020,   vte올림픽 메달리스트 목록                                  vte올림픽 메달리스트 목록.1\n",
      "0           하계 종목  근대5종 농구 다이빙 레슬링 배구 배드민턴 복싱 비치발리볼 사격 사이클(남/여) 수...\n",
      "1           동계 종목  노르딕복합 루지 바이애슬론 봅슬레이 쇼트트랙 스노보드 스켈레톤 스키점프 스피드스케이...\n",
      "2           과거 종목  가라데 라크로스 라켓 로크 모터보트 밀리터리패트롤 소프트볼 야구 주드폼 줄다리기 크...\n",
      "3           시범 종목  개썰매 글라이딩 글리마 동계5종 라칸 롤러하키 무도 미식축구 밴디 볼링 사바트 스키...\n",
      "4          비공식 종목  게일릭풋볼 기구 낚시 롱그폼 모터레이싱 모터사이클 불 비둘기레이싱 사이클폴로 소방 ...]\n"
     ]
    }
   ],
   "source": [
    "import pandas as pd\n",
    "\n",
    "df = pd.read_html('https://ko.wikipedia.org/wiki/%EC%98%AC%EB%A6%BC%ED%94%BD_%EB%A9%94%EB%8B%AC_%EC%A7%91%EA%B3%84')\n",
    "print(df)"
   ]
  },
  {
   "cell_type": "code",
   "execution_count": 14,
   "metadata": {},
   "outputs": [
    {
     "ename": "ModuleNotFoundError",
     "evalue": "No module named 'panda'",
     "output_type": "error",
     "traceback": [
      "\u001b[1;31m---------------------------------------------------------------------------\u001b[0m",
      "\u001b[1;31mModuleNotFoundError\u001b[0m                       Traceback (most recent call last)",
      "\u001b[1;32m~\\AppData\\Local\\Temp\\ipykernel_3856\\922309228.py\u001b[0m in \u001b[0;36m<module>\u001b[1;34m\u001b[0m\n\u001b[1;32m----> 1\u001b[1;33m \u001b[1;32mimport\u001b[0m \u001b[0mpanda\u001b[0m \u001b[1;32mas\u001b[0m \u001b[0mpd\u001b[0m\u001b[1;33m\u001b[0m\u001b[1;33m\u001b[0m\u001b[0m\n\u001b[0m\u001b[0;32m      2\u001b[0m \u001b[1;33m\u001b[0m\u001b[0m\n\u001b[0;32m      3\u001b[0m \u001b[0mdf\u001b[0m \u001b[1;33m=\u001b[0m \u001b[0mpd\u001b[0m\u001b[1;33m.\u001b[0m\u001b[0mread_csv\u001b[0m\u001b[1;33m(\u001b[0m\u001b[1;34m'age.csv'\u001b[0m\u001b[1;33m,\u001b[0m \u001b[0mencoding\u001b[0m\u001b[1;33m=\u001b[0m\u001b[1;34m'cp949'\u001b[0m\u001b[1;33m,\u001b[0m \u001b[0mindex_col\u001b[0m\u001b[1;33m=\u001b[0m\u001b[1;36m0\u001b[0m\u001b[1;33m)\u001b[0m\u001b[1;33m\u001b[0m\u001b[1;33m\u001b[0m\u001b[0m\n\u001b[0;32m      4\u001b[0m \u001b[0mdf\u001b[0m \u001b[1;33m=\u001b[0m \u001b[0mdf\u001b[0m\u001b[1;33m.\u001b[0m\u001b[0mreplace\u001b[0m\u001b[1;33m(\u001b[0m\u001b[1;34m','\u001b[0m\u001b[1;33m,\u001b[0m\u001b[1;34m''\u001b[0m\u001b[1;33m,\u001b[0m\u001b[0mregex\u001b[0m\u001b[1;33m=\u001b[0m\u001b[1;32mTrue\u001b[0m\u001b[1;33m)\u001b[0m\u001b[1;33m\u001b[0m\u001b[1;33m\u001b[0m\u001b[0m\n\u001b[0;32m      5\u001b[0m \u001b[1;33m\u001b[0m\u001b[0m\n",
      "\u001b[1;31mModuleNotFoundError\u001b[0m: No module named 'panda'"
     ]
    }
   ],
   "source": [
    "import panda as pd\n",
    "\n",
    "df = pd.read_csv('age.csv', encoding='cp949', index_col=0)\n",
    "df = df.replace(',','',regex=True)\n",
    "\n",
    "df = df.apply(pd.to_numeric)\n",
    "\n",
    "df = df[df[df.columns[0]]!=0]\n",
    "\n",
    "df = df.div(df['2023년09월_계_총인구수'], axis='index')\n",
    "del df['2023년09월_계_총인구수'] , df['2023년09월_계_연령구간인구수']\n",
    "\n",
    "df.head(3)"
   ]
  },
  {
   "cell_type": "code",
   "execution_count": 12,
   "metadata": {},
   "outputs": [
    {
     "ename": "KeyError",
     "evalue": "'2023년 09월_계_총인구수'",
     "output_type": "error",
     "traceback": [
      "\u001b[1;31m---------------------------------------------------------------------------\u001b[0m",
      "\u001b[1;31mKeyError\u001b[0m                                  Traceback (most recent call last)",
      "\u001b[1;32mc:\\Users\\102\\anaconda3\\lib\\site-packages\\pandas\\core\\indexes\\base.py\u001b[0m in \u001b[0;36mget_loc\u001b[1;34m(self, key, method, tolerance)\u001b[0m\n\u001b[0;32m   3628\u001b[0m             \u001b[1;32mtry\u001b[0m\u001b[1;33m:\u001b[0m\u001b[1;33m\u001b[0m\u001b[1;33m\u001b[0m\u001b[0m\n\u001b[1;32m-> 3629\u001b[1;33m                 \u001b[1;32mreturn\u001b[0m \u001b[0mself\u001b[0m\u001b[1;33m.\u001b[0m\u001b[0m_engine\u001b[0m\u001b[1;33m.\u001b[0m\u001b[0mget_loc\u001b[0m\u001b[1;33m(\u001b[0m\u001b[0mcasted_key\u001b[0m\u001b[1;33m)\u001b[0m\u001b[1;33m\u001b[0m\u001b[1;33m\u001b[0m\u001b[0m\n\u001b[0m\u001b[0;32m   3630\u001b[0m             \u001b[1;32mexcept\u001b[0m \u001b[0mKeyError\u001b[0m \u001b[1;32mas\u001b[0m \u001b[0merr\u001b[0m\u001b[1;33m:\u001b[0m\u001b[1;33m\u001b[0m\u001b[1;33m\u001b[0m\u001b[0m\n",
      "\u001b[1;32mc:\\Users\\102\\anaconda3\\lib\\site-packages\\pandas\\_libs\\index.pyx\u001b[0m in \u001b[0;36mpandas._libs.index.IndexEngine.get_loc\u001b[1;34m()\u001b[0m\n",
      "\u001b[1;32mc:\\Users\\102\\anaconda3\\lib\\site-packages\\pandas\\_libs\\index.pyx\u001b[0m in \u001b[0;36mpandas._libs.index.IndexEngine.get_loc\u001b[1;34m()\u001b[0m\n",
      "\u001b[1;32mpandas\\_libs\\hashtable_class_helper.pxi\u001b[0m in \u001b[0;36mpandas._libs.hashtable.PyObjectHashTable.get_item\u001b[1;34m()\u001b[0m\n",
      "\u001b[1;32mpandas\\_libs\\hashtable_class_helper.pxi\u001b[0m in \u001b[0;36mpandas._libs.hashtable.PyObjectHashTable.get_item\u001b[1;34m()\u001b[0m\n",
      "\u001b[1;31mKeyError\u001b[0m: '2023년 09월_계_총인구수'",
      "\nThe above exception was the direct cause of the following exception:\n",
      "\u001b[1;31mKeyError\u001b[0m                                  Traceback (most recent call last)",
      "\u001b[1;32m~\\AppData\\Local\\Temp\\ipykernel_3856\\476928224.py\u001b[0m in \u001b[0;36m<module>\u001b[1;34m\u001b[0m\n\u001b[0;32m      8\u001b[0m \u001b[0mdf\u001b[0m \u001b[1;33m=\u001b[0m \u001b[0mdf\u001b[0m\u001b[1;33m[\u001b[0m\u001b[0mdf\u001b[0m\u001b[1;33m[\u001b[0m\u001b[0mdf\u001b[0m\u001b[1;33m.\u001b[0m\u001b[0mcolumns\u001b[0m\u001b[1;33m[\u001b[0m\u001b[1;36m0\u001b[0m\u001b[1;33m]\u001b[0m\u001b[1;33m]\u001b[0m \u001b[1;33m!=\u001b[0m \u001b[1;36m0\u001b[0m\u001b[1;33m]\u001b[0m\u001b[1;33m\u001b[0m\u001b[1;33m\u001b[0m\u001b[0m\n\u001b[0;32m      9\u001b[0m \u001b[1;33m\u001b[0m\u001b[0m\n\u001b[1;32m---> 10\u001b[1;33m \u001b[0mdf\u001b[0m \u001b[1;33m=\u001b[0m \u001b[0mdf\u001b[0m\u001b[1;33m.\u001b[0m\u001b[0mdiv\u001b[0m\u001b[1;33m(\u001b[0m\u001b[0mdf\u001b[0m\u001b[1;33m[\u001b[0m\u001b[1;34m'2023년 09월_계_총인구수'\u001b[0m\u001b[1;33m]\u001b[0m\u001b[1;33m,\u001b[0m \u001b[0maxis\u001b[0m\u001b[1;33m=\u001b[0m\u001b[1;34m'index'\u001b[0m\u001b[1;33m)\u001b[0m\u001b[1;33m\u001b[0m\u001b[1;33m\u001b[0m\u001b[0m\n\u001b[0m\u001b[0;32m     11\u001b[0m \u001b[1;32mdel\u001b[0m \u001b[0mdf\u001b[0m\u001b[1;33m[\u001b[0m\u001b[1;34m'2023년 09월_계_총인구수'\u001b[0m\u001b[1;33m]\u001b[0m\u001b[1;33m,\u001b[0m \u001b[0mdf\u001b[0m\u001b[1;33m[\u001b[0m\u001b[1;34m'2023년09월_계_연령구간인구수'\u001b[0m\u001b[1;33m]\u001b[0m\u001b[1;33m\u001b[0m\u001b[1;33m\u001b[0m\u001b[0m\n\u001b[0;32m     12\u001b[0m \u001b[1;33m\u001b[0m\u001b[0m\n",
      "\u001b[1;32mc:\\Users\\102\\anaconda3\\lib\\site-packages\\pandas\\core\\frame.py\u001b[0m in \u001b[0;36m__getitem__\u001b[1;34m(self, key)\u001b[0m\n\u001b[0;32m   3503\u001b[0m             \u001b[1;32mif\u001b[0m \u001b[0mself\u001b[0m\u001b[1;33m.\u001b[0m\u001b[0mcolumns\u001b[0m\u001b[1;33m.\u001b[0m\u001b[0mnlevels\u001b[0m \u001b[1;33m>\u001b[0m \u001b[1;36m1\u001b[0m\u001b[1;33m:\u001b[0m\u001b[1;33m\u001b[0m\u001b[1;33m\u001b[0m\u001b[0m\n\u001b[0;32m   3504\u001b[0m                 \u001b[1;32mreturn\u001b[0m \u001b[0mself\u001b[0m\u001b[1;33m.\u001b[0m\u001b[0m_getitem_multilevel\u001b[0m\u001b[1;33m(\u001b[0m\u001b[0mkey\u001b[0m\u001b[1;33m)\u001b[0m\u001b[1;33m\u001b[0m\u001b[1;33m\u001b[0m\u001b[0m\n\u001b[1;32m-> 3505\u001b[1;33m             \u001b[0mindexer\u001b[0m \u001b[1;33m=\u001b[0m \u001b[0mself\u001b[0m\u001b[1;33m.\u001b[0m\u001b[0mcolumns\u001b[0m\u001b[1;33m.\u001b[0m\u001b[0mget_loc\u001b[0m\u001b[1;33m(\u001b[0m\u001b[0mkey\u001b[0m\u001b[1;33m)\u001b[0m\u001b[1;33m\u001b[0m\u001b[1;33m\u001b[0m\u001b[0m\n\u001b[0m\u001b[0;32m   3506\u001b[0m             \u001b[1;32mif\u001b[0m \u001b[0mis_integer\u001b[0m\u001b[1;33m(\u001b[0m\u001b[0mindexer\u001b[0m\u001b[1;33m)\u001b[0m\u001b[1;33m:\u001b[0m\u001b[1;33m\u001b[0m\u001b[1;33m\u001b[0m\u001b[0m\n\u001b[0;32m   3507\u001b[0m                 \u001b[0mindexer\u001b[0m \u001b[1;33m=\u001b[0m \u001b[1;33m[\u001b[0m\u001b[0mindexer\u001b[0m\u001b[1;33m]\u001b[0m\u001b[1;33m\u001b[0m\u001b[1;33m\u001b[0m\u001b[0m\n",
      "\u001b[1;32mc:\\Users\\102\\anaconda3\\lib\\site-packages\\pandas\\core\\indexes\\base.py\u001b[0m in \u001b[0;36mget_loc\u001b[1;34m(self, key, method, tolerance)\u001b[0m\n\u001b[0;32m   3629\u001b[0m                 \u001b[1;32mreturn\u001b[0m \u001b[0mself\u001b[0m\u001b[1;33m.\u001b[0m\u001b[0m_engine\u001b[0m\u001b[1;33m.\u001b[0m\u001b[0mget_loc\u001b[0m\u001b[1;33m(\u001b[0m\u001b[0mcasted_key\u001b[0m\u001b[1;33m)\u001b[0m\u001b[1;33m\u001b[0m\u001b[1;33m\u001b[0m\u001b[0m\n\u001b[0;32m   3630\u001b[0m             \u001b[1;32mexcept\u001b[0m \u001b[0mKeyError\u001b[0m \u001b[1;32mas\u001b[0m \u001b[0merr\u001b[0m\u001b[1;33m:\u001b[0m\u001b[1;33m\u001b[0m\u001b[1;33m\u001b[0m\u001b[0m\n\u001b[1;32m-> 3631\u001b[1;33m                 \u001b[1;32mraise\u001b[0m \u001b[0mKeyError\u001b[0m\u001b[1;33m(\u001b[0m\u001b[0mkey\u001b[0m\u001b[1;33m)\u001b[0m \u001b[1;32mfrom\u001b[0m \u001b[0merr\u001b[0m\u001b[1;33m\u001b[0m\u001b[1;33m\u001b[0m\u001b[0m\n\u001b[0m\u001b[0;32m   3632\u001b[0m             \u001b[1;32mexcept\u001b[0m \u001b[0mTypeError\u001b[0m\u001b[1;33m:\u001b[0m\u001b[1;33m\u001b[0m\u001b[1;33m\u001b[0m\u001b[0m\n\u001b[0;32m   3633\u001b[0m                 \u001b[1;31m# If we have a listlike key, _check_indexing_error will raise\u001b[0m\u001b[1;33m\u001b[0m\u001b[1;33m\u001b[0m\u001b[0m\n",
      "\u001b[1;31mKeyError\u001b[0m: '2023년 09월_계_총인구수'"
     ]
    }
   ],
   "source": [
    "\n",
    "import pandas as pd\n",
    "import matplotlib.pyplot as plt  # 수정: import 문을 수정\n",
    "\n",
    "df = pd.read_csv('age.csv', encoding='cp949', index_col=0)\n",
    "df = df.replace(',', '', regex=True)\n",
    "df = df.apply(pd.to_numeric)\n",
    "\n",
    "df = df[df[df.columns[0]] != 0]\n",
    "\n",
    "df = df.div(df['2023년 09월_계_총인구수'], axis='index')\n",
    "del df['2023년 09월_계_총인구수'], df['2023년09월_계_연령구간인구수']\n",
    "\n",
    "name = input('원하는 지역의 이름을 입력해주세요 : ')\n",
    "\n",
    "# 수정: 입력 이름을 기반으로 행을 필터링하는 부분 수정\n",
    "a = df.index.str.contains(name)\n",
    "df2 = df[a]\n",
    "\n",
    "plt.rcParams['font.family'] = 'Malgun Gothic'\n",
    "df2.T.plot()\n",
    "plt.show()\n"
   ]
  },
  {
   "cell_type": "code",
   "execution_count": 6,
   "metadata": {},
   "outputs": [],
   "source": [
    "import pandas as pd\n",
    "\n",
    "df = pd.read_csv"
   ]
  },
  {
   "cell_type": "code",
   "execution_count": 13,
   "metadata": {},
   "outputs": [
    {
     "ename": "SyntaxError",
     "evalue": "expression cannot contain assignment, perhaps you meant \"==\"? (4255948281.py, line 7)",
     "output_type": "error",
     "traceback": [
      "\u001b[1;36m  File \u001b[1;32m\"C:\\Users\\102\\AppData\\Local\\Temp\\ipykernel_3856\\4255948281.py\"\u001b[1;36m, line \u001b[1;32m7\u001b[0m\n\u001b[1;33m    df = df.replace(',',''. regex=True)\u001b[0m\n\u001b[1;37m                        ^\u001b[0m\n\u001b[1;31mSyntaxError\u001b[0m\u001b[1;31m:\u001b[0m expression cannot contain assignment, perhaps you meant \"==\"?\n"
     ]
    }
   ],
   "source": [
    "import numpy as numpy\n",
    "import pandas as pd\n",
    "import matplotlib.pyplot as plt\n",
    "\n",
    "df = pd.read_csv('age.csv', encoding='cp949', index_col=0)\n",
    "\n",
    "df = df.replace(',',''. regex=True)\n",
    "df = df.apply(pd.to_numeric)\n",
    "\n",
    "df = df[df[df.columns[0]]!=0]\n",
    "\n",
    "df = df.div(df[df.columns[0]], axis='index')\n",
    "del df['2023년09월_계_총인구수'], df['2023년09월_계_연령구간인구수']\n",
    "\n",
    "name = input('원하는 지역의 이름을 입력하세요 : ')\n",
    "df2 = df[df.index.str.contains(name)]\n",
    "\n",
    "x = df.sub(df2.iloc[0], axis='columns')\n",
    "y = np.power(x,2)\n",
    "z = y.sum(axis='columns')\n",
    "i = z.sort_values().index[:6]\n",
    "\n",
    "plt.rcParams['font.family'] = 'MalgunGothic'\n",
    "plt.rcParams['axis.unicode_minus'] = False\n",
    "\n",
    "df.columns = range(101)\n",
    "df.loc[i].T.plot(figsize=(10,6))\n",
    "plt.xlabel('나이')\n",
    "plt.ylabel('인구비율')\n",
    "plt.grid(True)\n",
    "plt.show()\n"
   ]
  },
  {
   "cell_type": "markdown",
   "metadata": {},
   "source": []
  },
  {
   "cell_type": "code",
   "execution_count": null,
   "metadata": {},
   "outputs": [],
   "source": []
  }
 ],
 "metadata": {
  "kernelspec": {
   "display_name": "base",
   "language": "python",
   "name": "python3"
  },
  "language_info": {
   "codemirror_mode": {
    "name": "ipython",
    "version": 3
   },
   "file_extension": ".py",
   "mimetype": "text/x-python",
   "name": "python",
   "nbconvert_exporter": "python",
   "pygments_lexer": "ipython3",
   "version": "3.9.13"
  },
  "orig_nbformat": 4,
  "vscode": {
   "interpreter": {
    "hash": "f0c53bbe9542e47df31481e02bf4a49341ba358ee71ef3d714e12d58f858f224"
   }
  }
 },
 "nbformat": 4,
 "nbformat_minor": 2
}
